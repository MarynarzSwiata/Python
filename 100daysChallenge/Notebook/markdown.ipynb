{
 "cells": [
  {
   "cell_type": "markdown",
   "id": "a543896d",
   "metadata": {},
   "source": [
    "# Markdown Practice Notebook 📝\n",
    "\n",
    "This notebook is created to practice Markdown syntax inside Jupyter.  \n",
    "It will help me write clean documentation, reports, and GitHub README files.\n",
    "\n",
    "---\n",
    "\n",
    "**Goals:**\n",
    "- Learn Markdown formatting\n",
    "- Combine Markdown with Python code\n",
    "- Build a personal knowledge base"
   ]
  },
  {
   "cell_type": "markdown",
   "id": "c8f01590",
   "metadata": {
    "notebookRunGroups": {
     "groupValue": "1"
    }
   },
   "source": [
    "# Heading 1\n",
    "## Heading 2\n",
    "### Heading 3\n",
    "#### Heading 4\n",
    "\n",
    "**Bold text**  \n",
    "*Italic text*  \n",
    "~~Strikethrough~~  \n",
    "\n",
    "> This is a quote block."
   ]
  },
  {
   "cell_type": "markdown",
   "id": "86681160",
   "metadata": {},
   "source": [
    "### Ordered list\n",
    "1. Step one\n",
    "2. Step two\n",
    "3. Step three\n",
    "\n",
    "### Unordered list\n",
    "- Apples\n",
    "- Bananas\n",
    "  - Green bananas\n",
    "  - Yellow bananas\n",
    "- Oranges\n",
    "\n",
    "### Task list\n",
    "- [x] Install Jupyter\n",
    "- [ ] Learn Markdown\n",
    "- [ ] Push notebook to GitHub\n"
   ]
  },
  {
   "cell_type": "markdown",
   "id": "f38fb0a3",
   "metadata": {},
   "source": [
    "`Inline code example`: `print(\"Hello\")`\n",
    "\n",
    "```python\n",
    "# Python example\n",
    "for i in range(3):\n",
    "    print(\"Iteration:\", i)\n",
    "\n",
    "\n",
    "# Bash example\n",
    "ls -la\n",
    "\n",
    "\n",
    "---\n",
    "\n",
    "### 🧩 Cell 5 — Links & Images\n",
    "```markdown\n",
    "### Links\n",
    "[Official Python Documentation](https://docs.python.org/3/)\n",
    "[Markdown Guide](https://www.markdownguide.org/)\n",
    "\n",
    "### Images\n",
    "![Python Logo](https://www.python.org/static/community_logos/python-logo.png)"
   ]
  },
  {
   "cell_type": "markdown",
   "id": "96350a9e",
   "metadata": {},
   "source": [
    "| Name | Role | Experience |\n",
    "|------|------|-------------|\n",
    "| Alice | Developer | 2 years |\n",
    "| Bob | Data Analyst | 3 years |\n",
    "| Carol | Data Engineer | 5 years |\n",
    "\n",
    "**Note:** You can align columns using colons:\n",
    "| Left | Center | Right |\n",
    "|:--|:--:|--:|\n",
    "| A | B | C |"
   ]
  },
  {
   "cell_type": "markdown",
   "id": "e2b5d23d",
   "metadata": {},
   "source": [
    "---\n",
    "\n",
    "This line separates sections.\n",
    "\n",
    "<!-- This is a hidden comment, visible only in raw Markdown view -->"
   ]
  },
  {
   "cell_type": "markdown",
   "id": "8501c833",
   "metadata": {},
   "source": [
    "### Inline math\n",
    "The area of a circle: $A = \\pi r^2$\n",
    "\n",
    "### Block math\n",
    "$$\n",
    "E = mc^2\n",
    "$$"
   ]
  },
  {
   "cell_type": "markdown",
   "id": "dae36a10",
   "metadata": {
    "notebookRunGroups": {
     "groupValue": "2"
    }
   },
   "source": [
    "# Advanced Markdown in Jupyter 🚀\n",
    "\n",
    "This notebook demonstrates advanced Markdown features for better formatting, visuals, and interactivity.\n",
    "\n",
    "---\n",
    "\n",
    "**Focus areas:**\n",
    "- Syntax highlighting\n",
    "- Collapsible sections\n",
    "- Inline HTML\n",
    "- Tables with alignment\n",
    "- Combining Markdown with outputs (plots, tables)\n",
    "- Embedding media (images, videos)\n",
    "- Tips for GitHub README formatting\n"
   ]
  },
  {
   "cell_type": "markdown",
   "id": "e890a932",
   "metadata": {},
   "source": [
    "### Code highlighting examples\n",
    "\n",
    "```python\n",
    "def greet(name: str) -> None:\n",
    "    print(f\"Hello, {name}!\")\n",
    "\n",
    "greet(\"World\")"
   ]
  },
  {
   "cell_type": "markdown",
   "id": "e075fddb",
   "metadata": {},
   "source": [
    "# Create a new environment\n",
    "python -m venv .venv\n",
    "source .venv/bin/activate"
   ]
  },
  {
   "cell_type": "markdown",
   "id": "c1f3457a",
   "metadata": {},
   "source": [
    "{\n",
    "  \"name\": \"project\",\n",
    "  \"version\": \"1.0.0\"\n",
    "}\n"
   ]
  },
  {
   "cell_type": "markdown",
   "id": "bd8d3309",
   "metadata": {},
   "source": [
    "\n",
    "💡 *Comment:*  \n",
    "Jupyter recognize many of languages, use backtick and name of language (python, bash, json, yaml, html, itp.).\n",
    "\n",
    "---\n",
    "\n",
    "### 🧩 Cell 3 — Collapsible Sections (using HTML)\n",
    "```markdown\n",
    "<details>\n",
    "  <summary><strong>Click to expand example</strong></summary>\n",
    "\n",
    "```python\n",
    "import math\n",
    "radius = 3\n",
    "area = math.pi * radius**2\n",
    "area"
   ]
  },
  {
   "cell_type": "markdown",
   "id": "e4405620",
   "metadata": {},
   "source": [
    "### Inline HTML\n",
    "\n",
    "<p style=\"color:darkgreen; font-size:18px;\">\n",
    "You can use <strong>HTML</strong> for custom styling and layout.\n",
    "</p>\n",
    "\n",
    "<div style=\"border:2px solid #444; padding:10px; border-radius:10px;\">\n",
    "<b>Tip:</b> HTML is rendered in Markdown cells — useful for headers, colored boxes, or alignment.\n",
    "</div>"
   ]
  },
  {
   "cell_type": "markdown",
   "id": "c5205d15",
   "metadata": {},
   "source": [
    "| Column | Description | Example |\n",
    "|:-------|:-------------|:--------|\n",
    "| **Left** | Left aligned | `text-align: left` |\n",
    "| **Center** | Center aligned | `text-align: center` |\n",
    "| **Right** | Right aligned | `text-align: right` |\n",
    "\n",
    "---\n",
    "\n",
    "### Emoji and Icons\n",
    "| Symbol | Meaning |\n",
    "|:--|:--|\n",
    "| ✅ | Done |\n",
    "| ⚠️ | Warning |\n",
    "| ❌ | Error |\n",
    "| 💡 | Idea |"
   ]
  },
  {
   "cell_type": "markdown",
   "id": "474526dc",
   "metadata": {},
   "source": [
    "### Example: Displaying a chart below description\n",
    "\n",
    "The chart below shows a simple line plot generated with Matplotlib."
   ]
  },
  {
   "cell_type": "code",
   "execution_count": 3,
   "id": "b3d76bd5",
   "metadata": {},
   "outputs": [
    {
     "data": {
      "image/png": "[encoded data removed]",
      "text/plain": [
       "<Figure size 640x480 with 1 Axes>"
      ]
     },
     "metadata": {},
     "output_type": "display_data"
    }
   ],
   "source": [
    "import matplotlib.pyplot as plt\n",
    "\n",
    "x = [1, 2, 3, 4, 5]\n",
    "y = [n**2 for n in x]\n",
    "\n",
    "plt.plot(x, y, marker='o')\n",
    "plt.title(\"Square Numbers\")\n",
    "plt.xlabel(\"x\")\n",
    "plt.ylabel(\"y^2\")\n",
    "plt.grid(True)\n",
    "plt.show()"
   ]
  },
  {
   "cell_type": "markdown",
   "id": "2780a0ca",
   "metadata": {},
   "source": [
    "### Local and external images\n",
    "\n",
    "#### Local image (from same folder)\n",
    "![Local Image](./example_image.png)\n",
    "\n",
    "#### External image\n",
    "![Python](https://www.python.org/static/community_logos/python-logo-master-v3-TM.png)\n",
    "\n",
    "---\n",
    "\n",
    "### Embedded video (YouTube)\n",
    "<iframe width=\"560\" height=\"315\"\n",
    "src=\"https://www.youtube.com/embed/rfscVS0vtbw\"\n",
    "title=\"Python Tutorial for Beginners\"\n",
    "frameborder=\"0\"\n",
    "allowfullscreen></iframe>"
   ]
  },
  {
   "cell_type": "markdown",
   "id": "b7e21609",
   "metadata": {},
   "source": [
    "<div style=\"border-left: 4px solid #4CAF50; padding: 10px; background-color: #e8f5e9;\">\n",
    "<b>✅ Success:</b> Everything ran perfectly!\n",
    "</div>\n",
    "\n",
    "<div style=\"border-left: 4px solid #FF9800; padding: 10px; background-color: #fff3e0;\">\n",
    "<b>⚠️ Warning:</b> Check your file path carefully.\n",
    "</div>\n",
    "\n",
    "<div style=\"border-left: 4px solid #f44336; padding: 10px; background-color: #ffebee;\">\n",
    "<b>❌ Error:</b> Something went wrong — review your syntax.\n",
    "</div>"
   ]
  },
  {
   "cell_type": "markdown",
   "id": "f9929e34",
   "metadata": {},
   "source": [
    "### References\n",
    "\n",
    "1. [Official Markdown Guide](https://www.markdownguide.org/basic-syntax/)\n",
    "2. [Jupyter Notebook Documentation](https://jupyter-notebook.readthedocs.io/en/stable/)\n",
    "3. [Matplotlib Gallery](https://matplotlib.org/stable/gallery/index.html)\n",
    "4. [GitHub Markdown Cheatsheet](https://github.com/adam-p/markdown-here/wiki/Markdown-Cheatsheet)"
   ]
  }
 ],
 "metadata": {
  "kernelspec": {
   "display_name": ".venv (3.14.0)",
   "language": "python",
   "name": "python3"
  },
  "language_info": {
   "codemirror_mode": {
    "name": "ipython",
    "version": 3
   },
   "file_extension": ".py",
   "mimetype": "text/x-python",
   "name": "python",
   "nbconvert_exporter": "python",
   "pygments_lexer": "ipython3",
   "version": "3.14.0"
  }
 },
 "nbformat": 4,
 "nbformat_minor": 5
}
